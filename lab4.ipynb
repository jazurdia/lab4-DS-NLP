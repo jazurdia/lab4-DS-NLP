{
 "cells": [
  {
   "cell_type": "markdown",
   "metadata": {},
   "source": [
    "# Laboratorio 4: Mejorando el Análisis de Sentimientos con LSTM y Características Adicionales\n",
    "\n",
    "Objetivo: Incrementar la precisión en el análisis de sentimientos sobre las críticas de películas utilizando RNNs con unidades LSTM y la incorporación de características (features) adicionales.\n",
    "\n",
    "**Instrucciones:**\n",
    "1. Importación de Datos: Utilice el conjunto de datos IMDB proporcionado por Keras. pero esta vez, en lugar de utilizar sólo las 20.000 palabras más frecuentes, utilice las 50.000 palabras más frecuentes.\n",
    "2. Pre-procesamiento: <br>\n",
    "    • Secuencie y rellene las críticas para que todas tengan una longitud uniforme. <br>\n",
    "    • De las críticas, extraiga características (features) adicionales, por ejemplo. la longitud de la crítica, la proporción de palabras positivas/negativas y cualquier otra que considere pueda ser útil.\n",
    "3. Modelo: <br>\n",
    "    •Cree un modelo LSTM que acepte las características (features) adicionales junto con la secuencia de palabras. <br>\n",
    "    •Intente usar una arquitectura más compleja, incorporando más capas LSTM, capas de Dropout para la regularización y tal vez alguna capa densamente conectada después de la LSTM.  (ver también la referencia al final de este documento)<br>\n",
    "4. Entrenamiento y Evaluación: Entrene su modelo con el conjunto de datos de entrenamiento y evalúe su desempeño con el conjunto de datos de prueba.\n",
    "5. Informe: Escriba un breve informe que describa:<br>\n",
    "    •Las características adicionales seleccionadas y la razón de su elección.<br>\n",
    "    •La arquitectura del modelo y las razones detrás de sus elecciones.<br>\n",
    "    •Los resultados obtenidos y una breve comparación con el modelo simple del ejercicio anterior.<br>\n"
   ]
  },
  {
   "cell_type": "markdown",
   "metadata": {},
   "source": [
    "## Rúbrica de Evaluación:\n",
    "1. Importación y Pre-procesamiento (30 puntos) <br>\n",
    "•Correcta importación del conjunto de datos con 50,000 palabras más frecuentes: 10 puntos. <br>\n",
    "•Secuenciación y relleno de las críticas: 10 puntos. <br>\n",
    "•Extracción y adecuada justificación de características adicionales: 10 puntos. <br>\n",
    "2. Arquitectura del Modelo (30 puntos) <br>\n",
    "•Adecuado diseño de la arquitectura LSTM: 10 puntos. <br>\n",
    "•Incorporación efectiva de características adicionales en el modelo: 10 puntos. <br>\n",
    "•Uso de técnicas adicionales (e.g., Dropout, capas densamente conectadas): 10 puntos. <br>\n",
    "3. Entrenamiento y Evaluación (20 puntos) <br>\n",
    "•Correcto entrenamiento del modelo sin errores: 10 puntos. <br>\n",
    "•Evaluación y comparación adecuada con el modelo del ejercicio anterior: 10 puntos. <br>\n",
    "4. Informe (20 puntos) <br>\n",
    "•Clara descripción de características adicionales y su relevancia: 5 puntos. <br>\n",
    "•Explicación coherente de la arquitectura del modelo: 5 puntos. <br>\n",
    "•Presentación de resultados y comparativa efectiva: 10 puntos. <br>\n",
    "\n",
    "Recurso de Datos:\n",
    "[IMDB Movie reviews sentiment classification](https://keras.io/api/datasets/)\n",
    "\n",
    "Referencia:\n",
    "https://openaccess.thecvf.com/content_cvpr_2016/papers/He_Deep_Residual_Learning_CVPR_2016_paper.pdf\n"
   ]
  }
 ],
 "metadata": {
  "kernelspec": {
   "display_name": "lab4dl",
   "language": "python",
   "name": "python3"
  },
  "language_info": {
   "codemirror_mode": {
    "name": "ipython",
    "version": 3
   },
   "file_extension": ".py",
   "mimetype": "text/x-python",
   "name": "python",
   "nbconvert_exporter": "python",
   "pygments_lexer": "ipython3",
   "version": "3.11.9"
  }
 },
 "nbformat": 4,
 "nbformat_minor": 2
}
